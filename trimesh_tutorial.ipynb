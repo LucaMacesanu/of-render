{
 "cells": [
  {
   "cell_type": "code",
   "execution_count": null,
   "id": "fc5e1258",
   "metadata": {},
   "outputs": [],
   "source": [
    "import numpy as np\n",
    "import trimesh\n",
    "\n",
    "# attach to logger so trimesh messages will be printed to console\n",
    "trimesh.util.attach_to_log()\n",
    "\n",
    "# mesh objects can be created from existing faces and vertex data\n",
    "mesh = trimesh.Trimesh(vertices=[[0, 0, 0], [0, 0, 1], [0, 1, 0]],\n",
    "                       faces=[[0, 1, 2]])\n",
    "\n",
    "# by default, Trimesh will do a light processing, which will\n",
    "# remove any NaN values and merge vertices that share position\n",
    "# if you want to not do this on load, you can pass `process=False`\n",
    "mesh = trimesh.Trimesh(vertices=[[0, 0, 0], [0, 0, 1], [0, 1, 0]],\n",
    "                       faces=[[0, 1, 2]],\n",
    "                       process=False)\n",
    "\n",
    "# some formats represent multiple meshes with multiple instances\n",
    "# the loader tries to return the datatype which makes the most sense\n",
    "# which will for scene-like files will return a `trimesh.Scene` object.\n",
    "# if you *always* want a straight `trimesh.Trimesh` you can ask the\n",
    "# loader to \"force\" the result into a mesh through concatenation\n",
    "mesh = trimesh.load('models/CesiumMilkTruck.glb', force='mesh')\n",
    "\n",
    "# mesh objects can be loaded from a file name or from a buffer\n",
    "# you can pass any of the kwargs for the `Trimesh` constructor\n",
    "# to `trimesh.load`, including `process=False` if you would like\n",
    "# to preserve the original loaded data without merging vertices\n",
    "# STL files will be a soup of disconnected triangles without\n",
    "# merging vertices however and will not register as watertight\n",
    "mesh = trimesh.load('../models/featuretype.STL')\n",
    "\n",
    "\n",
    "\n",
    "\n",
    "\n",
    "\n",
    "\n"
   ]
  },
  {
   "cell_type": "code",
   "execution_count": null,
   "id": "a3476dc5",
   "metadata": {},
   "outputs": [],
   "source": [
    "# is the current mesh watertight?\n",
    "mesh.is_watertight"
   ]
  },
  {
   "cell_type": "code",
   "execution_count": null,
   "id": "44041c3f",
   "metadata": {},
   "outputs": [],
   "source": [
    "# what's the euler number for the mesh?\n",
    "mesh.euler_number"
   ]
  },
  {
   "cell_type": "code",
   "execution_count": null,
   "id": "fc687529",
   "metadata": {},
   "outputs": [],
   "source": [
    "# the convex hull is another Trimesh object that is available as a property\n",
    "# lets compare the volume of our mesh with the volume of its convex hull\n",
    "print(mesh.volume / mesh.convex_hull.volume)"
   ]
  },
  {
   "cell_type": "code",
   "execution_count": null,
   "id": "d3fda3ac",
   "metadata": {},
   "outputs": [],
   "source": [
    "# since the mesh is watertight, it means there is a\n",
    "# volumetric center of mass which we can set as the origin for our mesh\n",
    "mesh.vertices -= mesh.center_mass"
   ]
  },
  {
   "cell_type": "code",
   "execution_count": null,
   "id": "46dfac93",
   "metadata": {},
   "outputs": [],
   "source": [
    "# what's the moment of inertia for the mesh?\n",
    "mesh.moment_inertia"
   ]
  },
  {
   "cell_type": "code",
   "execution_count": null,
   "id": "d94d77d9",
   "metadata": {},
   "outputs": [],
   "source": [
    "# if there are multiple bodies in the mesh we can split the mesh by\n",
    "# connected components of face adjacency\n",
    "# since this example mesh is a single watertight body we get a list of one mesh\n",
    "mesh.split()"
   ]
  },
  {
   "cell_type": "code",
   "execution_count": null,
   "id": "942ed5c3",
   "metadata": {},
   "outputs": [],
   "source": [
    "# facets are groups of coplanar adjacent faces\n",
    "# set each facet to a random color\n",
    "# colors are 8 bit RGBA by default (n, 4) np.uint8\n",
    "for facet in mesh.facets:\n",
    "    mesh.visual.face_colors[facet] = trimesh.visual.random_color()"
   ]
  },
  {
   "cell_type": "code",
   "execution_count": null,
   "id": "3742dc94",
   "metadata": {},
   "outputs": [],
   "source": [
    "# preview mesh in an opengl window if you installed pyglet and scipy with pip\n",
    "mesh.show()"
   ]
  },
  {
   "cell_type": "code",
   "execution_count": null,
   "id": "b5c9f728",
   "metadata": {},
   "outputs": [],
   "source": [
    "# transform method can be passed a (4, 4) matrix and will cleanly apply the transform\n",
    "mesh.apply_transform(trimesh.transformations.random_rotation_matrix())"
   ]
  },
  {
   "cell_type": "code",
   "execution_count": null,
   "id": "4be59975",
   "metadata": {},
   "outputs": [],
   "source": [
    "# axis aligned bounding box is available\n",
    "mesh.bounding_box.extents"
   ]
  },
  {
   "cell_type": "code",
   "execution_count": null,
   "id": "cf7b7a00",
   "metadata": {},
   "outputs": [],
   "source": [
    "# a minimum volume oriented bounding box also available\n",
    "# primitives are subclasses of Trimesh objects which automatically generate\n",
    "# faces and vertices from data stored in the 'primitive' attribute\n",
    "mesh.bounding_box_oriented.primitive.extents\n",
    "mesh.bounding_box_oriented.primitive.transform"
   ]
  },
  {
   "cell_type": "code",
   "execution_count": null,
   "id": "fbfb0813",
   "metadata": {},
   "outputs": [],
   "source": [
    "# show the mesh appended with its oriented bounding box\n",
    "# the bounding box is a trimesh.primitives.Box object, which subclasses\n",
    "# Trimesh and lazily evaluates to fill in vertices and faces when requested\n",
    "# (press w in viewer to see triangles)\n",
    "(mesh + mesh.bounding_box_oriented).show()"
   ]
  },
  {
   "cell_type": "code",
   "execution_count": null,
   "id": "1f9f3cfb",
   "metadata": {},
   "outputs": [],
   "source": [
    "# bounding spheres and bounding cylinders of meshes are also\n",
    "# available, and will be the minimum volume version of each\n",
    "# except in certain degenerate cases, where they will be no worse\n",
    "# than a least squares fit version of the primitive.\n",
    "print(mesh.bounding_box_oriented.volume,\n",
    "      mesh.bounding_cylinder.volume,\n",
    "      mesh.bounding_sphere.volume)"
   ]
  }
 ],
 "metadata": {
  "kernelspec": {
   "display_name": "Python 3 (ipykernel)",
   "language": "python",
   "name": "python3"
  },
  "language_info": {
   "codemirror_mode": {
    "name": "ipython",
    "version": 3
   },
   "file_extension": ".py",
   "mimetype": "text/x-python",
   "name": "python",
   "nbconvert_exporter": "python",
   "pygments_lexer": "ipython3",
   "version": "3.10.11"
  }
 },
 "nbformat": 4,
 "nbformat_minor": 5
}
